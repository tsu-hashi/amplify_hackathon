{
 "cells": [
  {
   "cell_type": "markdown",
   "metadata": {},
   "source": [
    "# Bookshelf optimization_2"
   ]
  },
  {
   "cell_type": "code",
   "execution_count": 28,
   "metadata": {},
   "outputs": [],
   "source": [
    "# 色々インポート\n",
    "from load_data import load_book_data\n",
    "from utils import calc_max_books_per_shelf, rename_df_book, binary_expr\n",
    "from amplify import BinaryPoly, gen_symbols, Solver\n",
    "from amplify.client import FixstarsClient\n",
    "import numpy as np\n",
    "import math\n",
    "# Client の設定\n",
    "PROXY = 'proxy'\n",
    "TOKEN = 'token'\n",
    "client = FixstarsClient(proxy=PROXY)\n",
    "client.token = TOKEN"
   ]
  },
  {
   "cell_type": "code",
   "execution_count": 29,
   "metadata": {},
   "outputs": [],
   "source": [
    "# 本の数\n",
    "n_books      = 500\n",
    "# 棚の段数\n",
    "n_shelves    = 6\n",
    "# 棚の高さ\n",
    "shelf_height = 1050\n",
    "# 棚の幅\n",
    "shelf_width  = 500\n",
    "# 棚の高さの設定単位（50mm刻みで高さを変えられるものとする）\n",
    "shelf_h_step = 50"
   ]
  },
  {
   "cell_type": "code",
   "execution_count": 30,
   "metadata": {},
   "outputs": [
    {
     "data": {
      "text/html": [
       "<div>\n",
       "<style scoped>\n",
       "    .dataframe tbody tr th:only-of-type {\n",
       "        vertical-align: middle;\n",
       "    }\n",
       "\n",
       "    .dataframe tbody tr th {\n",
       "        vertical-align: top;\n",
       "    }\n",
       "\n",
       "    .dataframe thead th {\n",
       "        text-align: right;\n",
       "    }\n",
       "</style>\n",
       "<table border=\"1\" class=\"dataframe\">\n",
       "  <thead>\n",
       "    <tr style=\"text-align: right;\">\n",
       "      <th></th>\n",
       "      <th>title</th>\n",
       "      <th>series</th>\n",
       "      <th>genre</th>\n",
       "      <th>width</th>\n",
       "      <th>height</th>\n",
       "      <th>author</th>\n",
       "      <th>freq</th>\n",
       "    </tr>\n",
       "  </thead>\n",
       "  <tbody>\n",
       "    <tr>\n",
       "      <th>0</th>\n",
       "      <td>0_0</td>\n",
       "      <td>0</td>\n",
       "      <td>新書（ノベルス）</td>\n",
       "      <td>11</td>\n",
       "      <td>173</td>\n",
       "      <td>加藤朝陽</td>\n",
       "      <td>8.0</td>\n",
       "    </tr>\n",
       "    <tr>\n",
       "      <th>1</th>\n",
       "      <td>1_0</td>\n",
       "      <td>1</td>\n",
       "      <td>新書（ノベルス）</td>\n",
       "      <td>11</td>\n",
       "      <td>173</td>\n",
       "      <td>田中湊斗</td>\n",
       "      <td>3.0</td>\n",
       "    </tr>\n",
       "    <tr>\n",
       "      <th>2</th>\n",
       "      <td>2_0</td>\n",
       "      <td>2</td>\n",
       "      <td>文庫（文芸書）</td>\n",
       "      <td>13</td>\n",
       "      <td>148</td>\n",
       "      <td>石井陽斗</td>\n",
       "      <td>1.0</td>\n",
       "    </tr>\n",
       "    <tr>\n",
       "      <th>3</th>\n",
       "      <td>3_0</td>\n",
       "      <td>3</td>\n",
       "      <td>新書（文芸書）</td>\n",
       "      <td>11</td>\n",
       "      <td>173</td>\n",
       "      <td>高橋陽葵</td>\n",
       "      <td>3.0</td>\n",
       "    </tr>\n",
       "    <tr>\n",
       "      <th>4</th>\n",
       "      <td>3_1</td>\n",
       "      <td>3</td>\n",
       "      <td>新書（文芸書）</td>\n",
       "      <td>11</td>\n",
       "      <td>173</td>\n",
       "      <td>高橋陽葵</td>\n",
       "      <td>3.0</td>\n",
       "    </tr>\n",
       "  </tbody>\n",
       "</table>\n",
       "</div>"
      ],
      "text/plain": [
       "  title  series     genre  width  height author  freq\n",
       "0   0_0       0  新書（ノベルス）     11     173   加藤朝陽   8.0\n",
       "1   1_0       1  新書（ノベルス）     11     173   田中湊斗   3.0\n",
       "2   2_0       2   文庫（文芸書）     13     148   石井陽斗   1.0\n",
       "3   3_0       3   新書（文芸書）     11     173   高橋陽葵   3.0\n",
       "4   3_1       3   新書（文芸書）     11     173   高橋陽葵   3.0"
      ]
     },
     "execution_count": 30,
     "metadata": {},
     "output_type": "execute_result"
    }
   ],
   "source": [
    "# データの読み込み\n",
    "df_book = load_book_data(n_books, refresh=False)\n",
    "df_book = rename_df_book(df_book)\n",
    "df_book['width'] = df_book['width'].astype(int)\n",
    "df_book['height'] = df_book['height'].astype(int)\n",
    "df_book.head(5)"
   ]
  },
  {
   "cell_type": "code",
   "execution_count": 31,
   "metadata": {},
   "outputs": [],
   "source": [
    "#df_book_series = df_book.groupby(['series', 'genre', 'height', 'author']).agg({'width':sum, 'freq':'mean'}).reset_index()\n",
    "#n_books = df_book_series.shape[0]\n",
    "df_book_series = df_book.copy()"
   ]
  },
  {
   "cell_type": "code",
   "execution_count": 32,
   "metadata": {},
   "outputs": [],
   "source": [
    "# 後で扱いやすいようにリスト化\n",
    "book_width  = list(df_book_series.width)\n",
    "book_height = list(df_book_series.height)\n",
    "book_genre  = list(df_book_series.genre)\n",
    "book_freq   = list(df_book_series.freq)"
   ]
  },
  {
   "cell_type": "code",
   "execution_count": 33,
   "metadata": {},
   "outputs": [
    {
     "name": "stdout",
     "output_type": "stream",
     "text": [
      "maximum space width: 250\n"
     ]
    }
   ],
   "source": [
    "# 各段の空きスペースの許容量を定義\n",
    "## ここでは、棚の幅の 10% か 最も分厚い本の厚さ のうち大きい方とする。\n",
    "p_space_width = 0.50\n",
    "max_space_width = int(max(shelf_width * p_space_width, df_book_series.width.max()))\n",
    "print(f'maximum space width: {max_space_width}')"
   ]
  },
  {
   "cell_type": "code",
   "execution_count": 34,
   "metadata": {},
   "outputs": [
    {
     "name": "stdout",
     "output_type": "stream",
     "text": [
      "total shelf height: 21\n"
     ]
    }
   ],
   "source": [
    "# 棚の高さの合計の最大値\n",
    "## 問題設定上、棚の高さは 5cm 刻みになるため、本の高さや棚の高さは 5cm で割った値で考えればよい。\n",
    "total_shelf_height = shelf_height // shelf_h_step\n",
    "print(f'total shelf height: {total_shelf_height}')"
   ]
  },
  {
   "cell_type": "code",
   "execution_count": 35,
   "metadata": {},
   "outputs": [
    {
     "name": "stdout",
     "output_type": "stream",
     "text": [
      "shelf height range: 3 - 4\n"
     ]
    }
   ],
   "source": [
    "# 各棚の高さの範囲の計算\n",
    "min_book_height = math.ceil(df_book_series.height.min() / shelf_h_step) \n",
    "max_book_height = math.ceil(df_book_series.height.max() / shelf_h_step)\n",
    "# 各棚の高さは、少なくとも 一番小さい本の高さ以上である必要がある。\n",
    "min_shelf_height = min_book_height\n",
    "# N 段のうち N-1 段が最も小さい高さとしたときに、残りの1段の高さが Max となる。\n",
    "max_shelf_height = int(shelf_height/shelf_h_step - min_shelf_height * (n_shelves - 1))\n",
    "max_shelf_height = min(max_shelf_height, max_book_height)\n",
    "print(f'shelf height range: {min_shelf_height} - {max_shelf_height}')"
   ]
  },
  {
   "cell_type": "code",
   "execution_count": 36,
   "metadata": {},
   "outputs": [
    {
     "data": {
      "text/plain": [
       "array([[<matplotlib.axes._subplots.AxesSubplot object at 0x7ff476af3ac0>,\n",
       "        <matplotlib.axes._subplots.AxesSubplot object at 0x7ff4769aeb20>]],\n",
       "      dtype=object)"
      ]
     },
     "execution_count": 36,
     "metadata": {},
     "output_type": "execute_result"
    },
    {
     "data": {
      "image/png": "[encoded data removed]",
      "text/plain": [
       "<Figure size 1080x216 with 2 Axes>"
      ]
     },
     "metadata": {
      "needs_background": "light"
     },
     "output_type": "display_data"
    }
   ],
   "source": [
    "# 本の高さ、幅の分布\n",
    "df_book_series[['height', 'width']].hist(bins=40, figsize=(15, 3))"
   ]
  },
  {
   "cell_type": "markdown",
   "metadata": {},
   "source": [
    "### 定式化の方針\n",
    "- 1度の最適化で本をどの段に配置するか、各棚板の高さまで決める。\n",
    "\n",
    "### 変数定義\n",
    "- すべてバイナリ変数（0/1）とする。\n",
    "\n",
    "\n",
    "- $x_{b, s}$ は 本の配置を表す。\n",
    "  - $x_{b, s} = 1$ のとき、本 $b$ を 上から $s$ 段目に配置するという意味とする。\n",
    "\n",
    "\n",
    "- $y_{s, i}$ は $s$ 段目 の空きスペースを表すための補助的な変数。\n",
    "\n",
    "\n",
    "- $z_{s, i}$ は $s$ 段目 の高さを表すための変数。\n",
    "  - $\\text{min_shelf_height} + \\sum_{i} 2^i z_{s, i}$ が各棚の高さを表す。\n",
    "\n",
    "\n",
    "- $zz_{s, i}$ は $s$ 段目に格納された本 と その上の棚板の間の空きスペースを表すための補助的な変数。\n",
    "\n",
    "\n",
    "- $w_{s, i}$ は 3次式の次数を下げるための変数。"
   ]
  },
  {
   "cell_type": "code",
   "execution_count": 37,
   "metadata": {},
   "outputs": [
    {
     "name": "stdout",
     "output_type": "stream",
     "text": [
      "x_shape: (500, 6)\n"
     ]
    }
   ],
   "source": [
    "# 本の位置を表す変数\n",
    "x_shape = (n_books, n_shelves)\n",
    "print(f'x_shape: {x_shape}')"
   ]
  },
  {
   "cell_type": "code",
   "execution_count": 38,
   "metadata": {},
   "outputs": [
    {
     "name": "stdout",
     "output_type": "stream",
     "text": [
      "max_space_width = 250, [1, 2, 4, 8, 16, 32, 64, 123]\n",
      "x_shape: (6, 8)\n"
     ]
    }
   ],
   "source": [
    "# 横方向の空きスペースを表す変数\n",
    "y_coef_list = binary_expr(max_space_width)#, max_coef=16)\n",
    "y_shape = (n_shelves, len(y_coef_list))\n",
    "print(f'max_space_width = {max_space_width}, {y_coef_list}')\n",
    "print(f'x_shape: {y_shape}')"
   ]
  },
  {
   "cell_type": "code",
   "execution_count": 39,
   "metadata": {},
   "outputs": [
    {
     "name": "stdout",
     "output_type": "stream",
     "text": [
      "z_shape: (6, 1)\n"
     ]
    }
   ],
   "source": [
    "# 本棚の高さを表す変数\n",
    "z_coef_list = binary_expr(max_shelf_height - min_shelf_height)\n",
    "z_shape = (n_shelves, len(z_coef_list))\n",
    "print(f'z_shape: {z_shape}')"
   ]
  },
  {
   "cell_type": "code",
   "execution_count": 40,
   "metadata": {},
   "outputs": [
    {
     "name": "stdout",
     "output_type": "stream",
     "text": [
      "zz_shape: (6, 1)\n"
     ]
    }
   ],
   "source": [
    "# 本と棚板の間の縦方向の空きスペースを変数\n",
    "zz_shape = (n_shelves, len(z_coef_list))\n",
    "print(f'zz_shape: {zz_shape}')"
   ]
  },
  {
   "cell_type": "code",
   "execution_count": 41,
   "metadata": {},
   "outputs": [
    {
     "name": "stdout",
     "output_type": "stream",
     "text": [
      "w_shape: (6, 1)\n"
     ]
    }
   ],
   "source": [
    "# 3次項の次数下げ用\n",
    "w_shape = (n_shelves, 1)\n",
    "print(f'w_shape: {w_shape}')"
   ]
  },
  {
   "cell_type": "code",
   "execution_count": 42,
   "metadata": {},
   "outputs": [],
   "source": [
    "def calc_n_vars(shape):\n",
    "    n = 1\n",
    "    for s in shape:\n",
    "        n *= s\n",
    "    return n"
   ]
  },
  {
   "cell_type": "code",
   "execution_count": 43,
   "metadata": {},
   "outputs": [
    {
     "name": "stdout",
     "output_type": "stream",
     "text": [
      "x : 3000\n",
      "y : 48\n",
      "z : 6\n",
      "zz: 6\n",
      "w : 6\n"
     ]
    }
   ],
   "source": [
    "# 変数の数の計算\n",
    "n_x  = calc_n_vars(x_shape)\n",
    "n_y  = calc_n_vars(y_shape)\n",
    "n_z  = calc_n_vars(z_shape)\n",
    "n_zz = calc_n_vars(zz_shape)\n",
    "n_w  = calc_n_vars(w_shape)\n",
    "print(f'x : {n_x}')\n",
    "print(f'y : {n_y}')\n",
    "print(f'z : {n_z}')\n",
    "print(f'zz: {n_zz}')\n",
    "print(f'w : {n_w}')"
   ]
  },
  {
   "cell_type": "code",
   "execution_count": 44,
   "metadata": {},
   "outputs": [],
   "source": [
    "# スピンの作成\n",
    "## 後の定式化のしやすさのために、numpy の配列に変換しておく。\n",
    "s = gen_symbols(BinaryPoly, n_x + n_y + n_z + n_zz + n_w)\n",
    "x = np.array(s[:n_x]).reshape(x_shape)\n",
    "y = np.array(s[n_x:n_x+n_y]).reshape(y_shape)\n",
    "z = np.array(s[n_x+n_y:n_x+n_y+n_z]).reshape(z_shape)\n",
    "zz = np.array(s[n_x+n_y+n_z:n_x+n_y+n_z+n_zz]).reshape(zz_shape)\n",
    "w = np.array(s[n_x+n_y+n_z+n_zz:]).reshape(w_shape)"
   ]
  },
  {
   "cell_type": "markdown",
   "metadata": {},
   "source": [
    "### H1. 本はどこか1か所に配置されるか、どこにも配置されない。\n",
    "$$H_1 = \\sum_{b \\in Books} \\bigl\\{ \\bigl(\\sum_{s \\in Shelves} x_{b, s} - 0.5\\bigl)^2 - 0.25 \\bigl\\}$$"
   ]
  },
  {
   "cell_type": "code",
   "execution_count": 45,
   "metadata": {},
   "outputs": [],
   "source": [
    "from amplify.constraint import less_equal\n",
    "# 本は必ず1か所\n",
    "H1 = 0\n",
    "for b in range(n_books):\n",
    "    H1 += (x[b, :].sum() - 0.5) ** 2 - 0.25\n",
    "#    H1 += less_equal(x[b, :, :].sum(), 1)"
   ]
  },
  {
   "cell_type": "markdown",
   "metadata": {},
   "source": [
    "### H2. 棚の幅以上の本が収納されない。\n",
    "- $\\displaystyle H_2 = \\sum_s \\bigl(\\text{shelf_width} - \\text{total_book_width}_s - \\sum_i y_{s, i} \\times 2^{i} \\bigl)^2$\n",
    "  - $\\displaystyle \\text{total_book_width}_s = \\sum_b \\sum_s width_b x_{b, s}$\n",
    "\n",
    "  - $y_{s, i}$ は 横方向 の空きスペースを表すための変数\n",
    "\n",
    "  - $\\text{shelf_width}$ は棚の幅\n",
    "\n",
    "  - $width_b$ は 本 $b$ の幅"
   ]
  },
  {
   "cell_type": "code",
   "execution_count": 46,
   "metadata": {},
   "outputs": [],
   "source": [
    "H2 = 0\n",
    "for s in range(n_shelves):\n",
    "    total_book_width = sum(x[b, s] * book_width[b] for b in range(n_books))\n",
    "    slack = sum(c * y[s, i]  for i, c in enumerate(y_coef_list))\n",
    "    H2 += (shelf_width - total_book_width - slack) ** 2\n",
    "#    H3 += less_equal(total_book_width, shelf_width)"
   ]
  },
  {
   "cell_type": "markdown",
   "metadata": {},
   "source": [
    "### H3. 各段の高さの合計は棚の高さに一致する。\n",
    "- $z_{s, i}$ は $\\displaystyle \\sum_{i} z_{s, i}$ が 段 $s$ の高さを表す変数\n",
    "- $\\displaystyle H_3 = \\bigl\\{\\sum_s \\bigl(\\sum_i z_{s, i} \\times 2^{i} + \\text{min_shelf_height}\\bigl) - \\text{total_shelf_height}\\bigl\\}^2$\n",
    "\n",
    "- 棚の高さは $0 ～ 12$ 段階で表すこととする。"
   ]
  },
  {
   "cell_type": "code",
   "execution_count": 47,
   "metadata": {},
   "outputs": [
    {
     "name": "stdout",
     "output_type": "stream",
     "text": [
      "21\n"
     ]
    }
   ],
   "source": [
    "from amplify.constraint import equal_to\n",
    "from amplify import BinaryQuadraticModel\n",
    "# 本棚の高さ制約\n",
    "zsum = 0\n",
    "print(total_shelf_height)\n",
    "for s in range(n_shelves):\n",
    "    zsum += min_shelf_height + sum(c * z[s, i] for i, c in enumerate(z_coef_list))\n",
    "H3 = (total_shelf_height - zsum) ** 2\n",
    "#H4 = equal_to(zsum, total_shelf_height)"
   ]
  },
  {
   "cell_type": "markdown",
   "metadata": {},
   "source": [
    "### H4. 各段に格納される本は、それぞれの段の高さを超えない。\n",
    "- $zz_{s, i}$ は、$\\displaystyle \\sum_i zz_{s, i}$ が 各棚の各本の上の空きスペースのサイズを表す変数とする。\n",
    "- 「本の高さ + $\\displaystyle \\sum_i zz_{s, i}$」 が「 棚の高さ $\\text{shelf_height}$」と一致するように定式化\n",
    "\n",
    "\n",
    "- $\\displaystyle H_4 = \\sum_b \\sum_s x_{b,s} \\bigl\\{\\text{shelf_height} - \\text{book_height}(b) - \\sum_i  zz_{s, i} \\times 2^{i}\\bigl\\}^2$  \n",
    "  \n",
    "  $\\text{shelf_height} = (\\sum_i z_{s, i} \\times 2^{i} + \\text{min_shelf_height}\\bigl)$\n",
    "\n",
    "\n",
    "- <span style='color:red'>※注意</span>\n",
    "  - <span style='color:red'>本制約式は 3次式になるため、実際のコードは 手作業で2次式となるようにしている。</span>\n",
    "  - <span style='color:red'>格段の可変幅は 15cm ～ 20cm とする。</span>\n",
    "  - <span style='color:red'>問題設定上 25cm の設定も可能ではあるが、本の最大サイズが 20cm 以下のため考えないこととする。</span>  "
   ]
  },
  {
   "cell_type": "code",
   "execution_count": 48,
   "metadata": {},
   "outputs": [],
   "source": [
    "from amplify.constraint import greater_equal\n",
    "# 各棚の高さ制約（3次式）\n",
    "H4 = 0\n",
    "H_sup = 0\n",
    "for b in range(n_books):\n",
    "    for s in range(n_shelves):\n",
    "        # 棚の高さ\n",
    "        sh = min_shelf_height + sum(c * z[s, i] for i, c in enumerate(z_coef_list))\n",
    "        # 本の高さ\n",
    "        bh = math.ceil(book_height[b] / shelf_h_step)\n",
    "        # 本の高さが 3 の場合、zz[s, 0] を空きスペースとして追加する。\n",
    "        if (max_shelf_height - bh == 1):\n",
    "            diff = z[s, 0] + zz[s, 0] - 2 * w[s, 0]\n",
    "            # z[s, 0] * zz[s, 0] == w[s, 0] を満たすための制約式。\n",
    "            H_sup += z[s, 0] * zz[s, 0] - 2 * z[s, 0] * w[s, 0] - 2 * zz[s, 0] * w[s, 0] + 3 * w[s, 0]\n",
    "        # 本の高さが 4 の場合、空きスペースは不要。\n",
    "        elif (max_shelf_height - bh == 0):\n",
    "            diff = 1 - z[s, 0]\n",
    "\n",
    "        H4 += diff * x[b, s]"
   ]
  },
  {
   "cell_type": "markdown",
   "metadata": {},
   "source": [
    "### S1. 同じジャンルの本は同じ段に入れやすくする（ソフト制約）\n",
    "- 同じジャンルの本が同じ段に配置された場合、負のエネルギーが発生するものとする。\n",
    "- $\\displaystyle S_1 = - \\sum_{g \\in \\text{genre}} \\sum_{b_1, b_2 \\in books(g)} x_{b_1, s} x_{b_2, s}$ "
   ]
  },
  {
   "cell_type": "code",
   "execution_count": 49,
   "metadata": {},
   "outputs": [],
   "source": [
    "# なるべく近いジャンルをまとめたい。\n",
    "from itertools import combinations\n",
    "\n",
    "genre_list = list(df_book_series.genre.unique())\n",
    "S1 = 0\n",
    "cnt = 0\n",
    "for g in genre_list:\n",
    "    bs = [b for b in range(n_books) if (book_genre[b] == g)]\n",
    "    for s in range(n_shelves):\n",
    "        S1 -= sum(x[b1, s] * x[b2, s] for b1, b2 in combinations(bs, 2))\n",
    "        cnt += len(list(combinations(bs, 2)))\n",
    "S1 = S1 / cnt"
   ]
  },
  {
   "cell_type": "markdown",
   "metadata": {},
   "source": [
    "### S2. 使用頻度の大きい本を優先的に配置する（ソフト制約）\n",
    "- 使用頻度の値を -1 倍した分のエネルギーが発生するものとする。\n",
    "- $\\displaystyle S_2 = - \\sum_{b \\in \\text{books}} \\sum_{s \\in \\text{shelves}} freq(b) \\times x_{b, s}$ "
   ]
  },
  {
   "cell_type": "code",
   "execution_count": 50,
   "metadata": {},
   "outputs": [],
   "source": [
    "# 規格化用の定数（ここでは 使用頻度の合計値）\n",
    "total_freq = sum(book_freq)\n",
    "# 定式化\n",
    "S2 = - sum(book_freq[b] / total_freq * x[b, :].sum() for b in range(n_books))"
   ]
  },
  {
   "cell_type": "code",
   "execution_count": 69,
   "metadata": {},
   "outputs": [],
   "source": [
    "h1 = 20\n",
    "h2 = 1\n",
    "h3 = 500\n",
    "h4 = 75\n",
    "s1 = 50\n",
    "s2 = 1"
   ]
  },
  {
   "cell_type": "code",
   "execution_count": 70,
   "metadata": {},
   "outputs": [],
   "source": [
    "f = h1*H1 + h2*H2 + h3*H3 +h4*(H4 + H_sup) + s1*S1 + s2*S2"
   ]
  },
  {
   "cell_type": "markdown",
   "metadata": {},
   "source": [
    "### 最適化の実行"
   ]
  },
  {
   "cell_type": "code",
   "execution_count": 71,
   "metadata": {},
   "outputs": [],
   "source": [
    "client.parameters.timeout = 60000  # タイムアウト1秒\n",
    "client.parameters.num_unit_steps = 100\n",
    "solver = Solver(client)"
   ]
  },
  {
   "cell_type": "code",
   "execution_count": 72,
   "metadata": {},
   "outputs": [
    {
     "name": "stdout",
     "output_type": "stream",
     "text": [
      "1617186948.3273642\n",
      "1617187022.3625715\n"
     ]
    }
   ],
   "source": [
    "import time\n",
    "print(time.time())\n",
    "result = solver.solve(f)\n",
    "print(time.time())"
   ]
  },
  {
   "cell_type": "code",
   "execution_count": 73,
   "metadata": {},
   "outputs": [],
   "source": [
    "def check(result, y_coef_list, z_coef_list):\n",
    "    solution = result[0]\n",
    "    sample = solution.values\n",
    "    print(f'Solution\\'s Length = {len(sample)}')\n",
    "    print(f'Solution\\'s Energy = {solution.energy}')\n",
    "    e1 = 0\n",
    "    e2 = 0\n",
    "    e4 = 0\n",
    "    shelf_height_list = []\n",
    "    book_list = []\n",
    "    x = np.array([sample[i] for i in range(n_x)]).reshape(x_shape)\n",
    "    z = np.array([sample[n_x+n_y+i] for i in range(n_z)]).reshape(z_shape)\n",
    "    for s in range(n_shelves):\n",
    "        print(f'## Shelf {s} #######################')\n",
    "        # 本の横幅の計算\n",
    "        total_book_width = 0\n",
    "        total_book_width = sum(book_width[b] * x[b][s] for b in range(n_books))\n",
    "        bl = [b for b in range(n_books) if x[b][s] == 1]\n",
    "        book_list.append(bl)\n",
    "\n",
    "        # 棚の縦幅の計算\n",
    "        height = (min_shelf_height + sum(z[s][i] * c for i, c in enumerate(z_coef_list))) * shelf_h_step\n",
    "        shelf_height_list.append(height)\n",
    "\n",
    "        # 収納された本の情報の表示\n",
    "        books = [(b, book_height[b], book_width[b]) for b in range(n_books) if x[b][s]]\n",
    "        for b in books:\n",
    "            print(f'book {b} {\"SIZE OVER\" if height < book_height[b[0]] else \"\"}')\n",
    "            if height < book_height[b[0]]:\n",
    "                e4 += math.ceil((book_height[b[0]] - height) / shelf_h_step) ** 2\n",
    "\n",
    "        if total_book_width > shelf_width:\n",
    "            e2 += 1\n",
    "        \n",
    "        print(f'book width   = {total_book_width} [mm]')\n",
    "        print(f'shelf height = {height} [mm]')\n",
    "\n",
    "    total_height = sum(shelf_height_list)\n",
    "    print(f'Total height: {total_height}')\n",
    "\n",
    "    # 本の重複チェック\n",
    "    for b in range(n_books):\n",
    "        nb = 0\n",
    "        for s in range(n_shelves):\n",
    "            nb += x[b][s]\n",
    "\n",
    "        if nb > 1:\n",
    "            print(f'book {b} = {nb}')\n",
    "            e1 += (nb - 0.5) ** 2 -0.25\n",
    "    e3 = (shelf_height / shelf_h_step - total_height / shelf_h_step) ** 2\n",
    "\n",
    "    # 各制約式のエネルギー（係数除く）の表示\n",
    "    print(f'H1 (duplicated book) = {e1 == 0}')\n",
    "    print(f'H2 (shelf_width)     = {e2 == 0}')\n",
    "    print(f'H3 (shelf_height)    = {e3 == 0}')\n",
    "    print(f'H4 (book_height)     = {e4 == 0}')\n",
    "    \n",
    "    S2 = sum(book_freq[b] * x[b, :].sum() for b in range(n_books))\n",
    "    print(f'Total frequency: {S2}')\n",
    "    print('')\n",
    "    judge = (e1 == 0) and (e2 == 0) and (e3 == 0) and (e4 == 0)\n",
    "    return sample, book_list, shelf_height_list, judge"
   ]
  },
  {
   "cell_type": "code",
   "execution_count": 74,
   "metadata": {},
   "outputs": [
    {
     "name": "stdout",
     "output_type": "stream",
     "text": [
      "Solution's Length = 3066\n",
      "Solution's Energy = -1.200077037456822\n",
      "## Shelf 0 #######################\n",
      "book (22, 173, 11) \n",
      "book (23, 173, 11) \n",
      "book (57, 182, 26) \n",
      "book (71, 182, 24) \n",
      "book (79, 173, 11) \n",
      "book (80, 173, 11) \n",
      "book (85, 173, 11) \n",
      "book (124, 173, 11) \n",
      "book (143, 173, 11) \n",
      "book (144, 173, 11) \n",
      "book (158, 182, 26) \n",
      "book (197, 173, 11) \n",
      "book (199, 173, 11) \n",
      "book (200, 173, 11) \n",
      "book (201, 173, 11) \n",
      "book (208, 173, 11) \n",
      "book (223, 182, 25) \n",
      "book (242, 173, 11) \n",
      "book (268, 182, 24) \n",
      "book (293, 173, 11) \n",
      "book (294, 173, 11) \n",
      "book (298, 182, 24) \n",
      "book (355, 173, 11) \n",
      "book (357, 173, 11) \n",
      "book (358, 173, 11) \n",
      "book (363, 173, 11) \n",
      "book (407, 173, 11) \n",
      "book (408, 173, 11) \n",
      "book (411, 173, 11) \n",
      "book (418, 173, 11) \n",
      "book (421, 173, 11) \n",
      "book (431, 173, 11) \n",
      "book (432, 173, 11) \n",
      "book (454, 173, 11) \n",
      "book (466, 182, 23) \n",
      "book (488, 173, 11) \n",
      "book width   = 491 [mm]\n",
      "shelf height = 200 [mm]\n",
      "## Shelf 1 #######################\n",
      "book (10, 148, 13) \n",
      "book (27, 148, 13) \n",
      "book (29, 148, 13) \n",
      "book (30, 148, 13) \n",
      "book (37, 148, 13) \n",
      "book (41, 148, 13) \n",
      "book (62, 148, 13) \n",
      "book (93, 148, 13) \n",
      "book (109, 148, 13) \n",
      "book (128, 148, 13) \n",
      "book (130, 148, 13) \n",
      "book (133, 148, 13) \n",
      "book (134, 148, 13) \n",
      "book (164, 148, 13) \n",
      "book (166, 148, 13) \n",
      "book (169, 148, 13) \n",
      "book (171, 148, 13) \n",
      "book (205, 148, 13) \n",
      "book (218, 148, 13) \n",
      "book (236, 148, 13) \n",
      "book (272, 148, 13) \n",
      "book (304, 148, 13) \n",
      "book (307, 148, 13) \n",
      "book (317, 148, 13) \n",
      "book (342, 148, 13) \n",
      "book (345, 148, 13) \n",
      "book (379, 148, 13) \n",
      "book (381, 148, 13) \n",
      "book (383, 148, 13) \n",
      "book (384, 148, 13) \n",
      "book (387, 148, 13) \n",
      "book (404, 148, 13) \n",
      "book (477, 148, 13) \n",
      "book (482, 148, 13) \n",
      "book (486, 148, 13) \n",
      "book (494, 148, 13) \n",
      "book (497, 148, 13) \n",
      "book width   = 481 [mm]\n",
      "shelf height = 150 [mm]\n",
      "## Shelf 2 #######################\n",
      "book (3, 173, 11) \n",
      "book (4, 173, 11) \n",
      "book (5, 173, 11) \n",
      "book (6, 173, 11) \n",
      "book (33, 173, 11) \n",
      "book (67, 173, 11) \n",
      "book (82, 173, 11) \n",
      "book (88, 173, 11) \n",
      "book (89, 173, 11) \n",
      "book (90, 173, 11) \n",
      "book (96, 182, 25) \n",
      "book (101, 182, 25) \n",
      "book (114, 173, 11) \n",
      "book (117, 173, 11) \n",
      "book (125, 173, 11) \n",
      "book (126, 173, 11) \n",
      "book (149, 173, 11) \n",
      "book (161, 173, 11) \n",
      "book (162, 173, 11) \n",
      "book (283, 173, 11) \n",
      "book (285, 182, 24) \n",
      "book (303, 173, 11) \n",
      "book (309, 173, 11) \n",
      "book (310, 173, 11) \n",
      "book (312, 173, 11) \n",
      "book (313, 173, 11) \n",
      "book (324, 173, 11) \n",
      "book (325, 173, 11) \n",
      "book (333, 173, 11) \n",
      "book (356, 173, 11) \n",
      "book (360, 173, 11) \n",
      "book (364, 173, 11) \n",
      "book (370, 182, 25) \n",
      "book (399, 182, 24) \n",
      "book (439, 173, 11) \n",
      "book (440, 173, 11) \n",
      "book (443, 173, 11) \n",
      "book width   = 475 [mm]\n",
      "shelf height = 200 [mm]\n",
      "## Shelf 3 #######################\n",
      "book (2, 148, 13) \n",
      "book (40, 148, 13) \n",
      "book (86, 148, 13) \n",
      "book (91, 148, 13) \n",
      "book (110, 148, 13) \n",
      "book (111, 148, 13) \n",
      "book (127, 148, 13) \n",
      "book (131, 148, 13) \n",
      "book (159, 148, 13) \n",
      "book (165, 148, 13) \n",
      "book (182, 148, 13) \n",
      "book (184, 148, 13) \n",
      "book (185, 148, 13) \n",
      "book (190, 148, 13) \n",
      "book (192, 148, 13) \n",
      "book (269, 148, 13) \n",
      "book (270, 148, 13) \n",
      "book (271, 148, 13) \n",
      "book (292, 148, 13) \n",
      "book (305, 148, 13) \n",
      "book (340, 148, 13) \n",
      "book (341, 148, 13) \n",
      "book (346, 148, 13) \n",
      "book (347, 148, 13) \n",
      "book (349, 148, 13) \n",
      "book (351, 148, 13) \n",
      "book (377, 148, 13) \n",
      "book (393, 148, 13) \n",
      "book (394, 148, 13) \n",
      "book (402, 148, 13) \n",
      "book (405, 148, 13) \n",
      "book (420, 148, 13) \n",
      "book (462, 148, 13) \n",
      "book (479, 148, 13) \n",
      "book (481, 148, 13) \n",
      "book (483, 148, 13) \n",
      "book (495, 148, 13) \n",
      "book (496, 148, 13) \n",
      "book width   = 494 [mm]\n",
      "shelf height = 150 [mm]\n",
      "## Shelf 4 #######################\n",
      "book (0, 173, 11) \n",
      "book (44, 173, 11) \n",
      "book (53, 173, 11) \n",
      "book (55, 173, 11) \n",
      "book (65, 173, 11) \n",
      "book (81, 173, 11) \n",
      "book (115, 173, 11) \n",
      "book (119, 173, 11) \n",
      "book (170, 148, 13) \n",
      "book (195, 173, 11) \n",
      "book (198, 173, 11) \n",
      "book (204, 148, 13) \n",
      "book (210, 173, 11) \n",
      "book (214, 173, 11) \n",
      "book (215, 173, 11) \n",
      "book (227, 182, 24) \n",
      "book (239, 173, 11) \n",
      "book (263, 182, 24) \n",
      "book (266, 182, 24) \n",
      "book (331, 173, 11) \n",
      "book (359, 173, 11) \n",
      "book (362, 173, 11) \n",
      "book (367, 182, 25) \n",
      "book (389, 173, 11) \n",
      "book (391, 173, 11) \n",
      "book (392, 173, 11) \n",
      "book (398, 182, 24) \n",
      "book (410, 173, 11) \n",
      "book (412, 173, 11) \n",
      "book (414, 173, 11) \n",
      "book (425, 182, 25) \n",
      "book (469, 182, 23) \n",
      "book (472, 173, 11) \n",
      "book (473, 173, 11) \n",
      "book (491, 173, 11) \n",
      "book (499, 173, 11) \n",
      "book width   = 492 [mm]\n",
      "shelf height = 200 [mm]\n",
      "## Shelf 5 #######################\n",
      "book (21, 148, 13) \n",
      "book (25, 148, 13) \n",
      "book (28, 148, 13) \n",
      "book (35, 148, 13) \n",
      "book (36, 148, 13) \n",
      "book (38, 148, 13) \n",
      "book (39, 148, 13) \n",
      "book (50, 148, 13) \n",
      "book (51, 148, 13) \n",
      "book (129, 148, 13) \n",
      "book (168, 148, 13) \n",
      "book (181, 148, 13) \n",
      "book (183, 148, 13) \n",
      "book (189, 148, 13) \n",
      "book (191, 148, 13) \n",
      "book (194, 148, 13) \n",
      "book (206, 148, 13) \n",
      "book (246, 148, 13) \n",
      "book (262, 148, 13) \n",
      "book (306, 148, 13) \n",
      "book (318, 148, 13) \n",
      "book (320, 148, 13) \n",
      "book (322, 148, 13) \n",
      "book (343, 148, 13) \n",
      "book (344, 148, 13) \n",
      "book (378, 148, 13) \n",
      "book (380, 148, 13) \n",
      "book (395, 148, 13) \n",
      "book (403, 148, 13) \n",
      "book (447, 148, 13) \n",
      "book (460, 148, 13) \n",
      "book (461, 148, 13) \n",
      "book (470, 148, 13) \n",
      "book (480, 148, 13) \n",
      "book (484, 148, 13) \n",
      "book (485, 148, 13) \n",
      "book (487, 148, 13) \n",
      "book width   = 481 [mm]\n",
      "shelf height = 150 [mm]\n",
      "Total height: 1050\n",
      "H1 (duplicated book) = True\n",
      "H2 (shelf_width)     = True\n",
      "H3 (shelf_height)    = True\n",
      "H4 (book_height)     = True\n",
      "Total frequency: 1198.0\n",
      "\n"
     ]
    }
   ],
   "source": [
    "sample, bl, sl, judge = check(result, y_coef_list, z_coef_list)"
   ]
  },
  {
   "cell_type": "markdown",
   "metadata": {},
   "source": [
    "### 各段の本のソート\n",
    "- ここもなんらかの最適化を実施できれば良いが今回は時間切れ。。。\n",
    "- 単純にジャンル順、タイトル順にソートすることとする。"
   ]
  },
  {
   "cell_type": "code",
   "execution_count": 75,
   "metadata": {},
   "outputs": [],
   "source": [
    "sorted_bl = [\n",
    "    list(df_book[df_book.index.isin(b)].sort_values(['genre', 'title']).index) for b in bl\n",
    "]"
   ]
  },
  {
   "cell_type": "markdown",
   "metadata": {},
   "source": [
    "### 結果の可視化"
   ]
  },
  {
   "cell_type": "code",
   "execution_count": 76,
   "metadata": {},
   "outputs": [],
   "source": [
    "import matplotlib.pyplot as plt\n",
    "import matplotlib.patches as patches\n",
    "\n",
    "def vis_shelf(shelf_board, order_list):\n",
    "    color = [\"r\", \"g\", \"b\", \"c\", \"m\", \"y\", \"k\", \"orange\", \"purple\", \"lightgreen\"]\n",
    "    genre = list(df_book_series.genre.unique())\n",
    "    \n",
    "    fig = plt.figure(figsize=(6, 10))\n",
    "    ax = plt.axes()\n",
    "    ax.set_xlim(0, shelf_width)\n",
    "    ax.set_ylim(0, shelf_height)\n",
    "\n",
    "    # fc = face color, ec = edge color\n",
    "    y = shelf_height \n",
    "    for j, order in enumerate(order_list):\n",
    "        y -= shelf_board[j]\n",
    "        ax.hlines(y, 0, shelf_width, \"black\") \n",
    "        x = 0\n",
    "        for b in order:\n",
    "            r = patches.Rectangle(\n",
    "                xy=(x, y),\n",
    "                width=book_width[b],\n",
    "                height=book_height[b], \n",
    "                ec=color[genre.index(book_genre[b])],\n",
    "                fc=color[genre.index(book_genre[b])], alpha=0.3)\n",
    "            ax.add_patch(r)\n",
    "            x += book_width[b]\n",
    "    plt.show()"
   ]
  },
  {
   "cell_type": "code",
   "execution_count": 77,
   "metadata": {},
   "outputs": [
    {
     "name": "stdout",
     "output_type": "stream",
     "text": [
      "result: OK\n"
     ]
    },
    {
     "data": {
      "image/png": "[encoded data removed]",
      "text/plain": [
       "<Figure size 432x720 with 1 Axes>"
      ]
     },
     "metadata": {
      "needs_background": "light"
     },
     "output_type": "display_data"
    }
   ],
   "source": [
    "print(f'result: {\"OK\" if judge else \"NG\"}')\n",
    "if judge:\n",
    "    vis_shelf(sl, sorted_bl)"
   ]
  },
  {
   "cell_type": "code",
   "execution_count": null,
   "metadata": {},
   "outputs": [],
   "source": []
  }
 ],
 "metadata": {
  "kernelspec": {
   "display_name": "Python 3",
   "language": "python",
   "name": "python3"
  },
  "language_info": {
   "codemirror_mode": {
    "name": "ipython",
    "version": 3
   },
   "file_extension": ".py",
   "mimetype": "text/x-python",
   "name": "python",
   "nbconvert_exporter": "python",
   "pygments_lexer": "ipython3",
   "version": "3.8.2"
  }
 },
 "nbformat": 4,
 "nbformat_minor": 5
}
